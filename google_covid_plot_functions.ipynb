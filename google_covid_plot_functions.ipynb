{
 "cells": [
  {
   "cell_type": "code",
   "execution_count": 9,
   "metadata": {},
   "outputs": [],
   "source": [
    "import matplotlib.pyplot as plt\n",
    "import matplotlib.dates as mdates\n",
    "# plt.style.use('tableau-colorblind10')"
   ]
  },
  {
   "cell_type": "markdown",
   "metadata": {},
   "source": [
    "# Plots for Google data"
   ]
  },
  {
   "cell_type": "code",
   "execution_count": 28,
   "metadata": {},
   "outputs": [],
   "source": [
    "# sets up the plot for each plot and includes most plot formatting\n",
    "# this function is called in the function below\n",
    "def plot_my_fig(df, my_col_name, title, color, ax=None):\n",
    "    figsize=(15,5) if ax is None else None\n",
    "    \n",
    "    ax.plot(df.index, df[my_col_name].rolling(7).mean(), c=color)\n",
    "    \n",
    "    ax.set_title(title)\n",
    "    \n",
    "    # formatting plot\n",
    "    ax.tick_params(axis=u'both', which=u'both',length=0)\n",
    "\n",
    "    ax.spines['right'].set_visible(False)\n",
    "    ax.spines['left'].set_visible(False)\n",
    "    ax.spines['top'].set_visible(False)\n",
    "    ax.spines['bottom'].set_visible(False)\n",
    "    \n",
    "    \n",
    "    # including baseline\n",
    "    ax.axhline(color='#E63946')\n",
    "    \n",
    "    # formatting x labels\n",
    "    plt.setp(ax.get_xticklabels(), rotation=45, ha=\"right\",\n",
    "             rotation_mode=\"anchor\")\n",
    "    \n",
    "    # formatting x axis\n",
    "    monthyearFmt = mdates.DateFormatter('%B')\n",
    "    ax.xaxis.set_major_formatter(monthyearFmt)\n",
    "    \n",
    "    # making more room at bottom of plots\n",
    "    plt.subplots_adjust(hspace=0.4)"
   ]
  },
  {
   "cell_type": "code",
   "execution_count": 17,
   "metadata": {},
   "outputs": [],
   "source": [
    "# formats titles from column headings\n",
    "def make_title(col_name):\n",
    "    words = col_name.split('_')\n",
    "    \n",
    "    words = [w.capitalize() for w in words]\n",
    "    title = ' '.join(words)\n",
    "    return title\n",
    "\n",
    "# plots 6 plots in subplots for google data\n",
    "# this is the function that is called in the presentation notebook\n",
    "def plot_my_grouped_plot(df):\n",
    "    \n",
    "    fig = plt.figure(figsize=(20,15))\n",
    "    [ax1, ax2], [ax3, ax4], [ax5, ax6] = fig.subplots(3,2)\n",
    "\n",
    "    plot_definition = [\n",
    "        ('retail_and_recreation', ax1),\n",
    "        ('grocery_and_pharmacy', ax2),      \n",
    "        ('parks', ax3),\n",
    "        ('transit_stations', ax4),\n",
    "        ('workplaces',ax5),\n",
    "        ('residential', ax6),\n",
    "    ]\n",
    "\n",
    "    for col, ax in plot_definition:\n",
    "        plot_my_fig(df, col, make_title(col), '#457B9D', ax=ax)"
   ]
  },
  {
   "cell_type": "markdown",
   "metadata": {},
   "source": [
    "# Individual country covid plots\n",
    "\n",
    "Could use similar structure to plot function above but it had to have changes due to different column names and less data to plot. "
   ]
  },
  {
   "cell_type": "code",
   "execution_count": 12,
   "metadata": {},
   "outputs": [],
   "source": [
    "# sets up plots and format plots\n",
    "def plot_my_fig_covid(df, my_col_name, title, color, ax=None):\n",
    "    \n",
    "    ax.plot(df.index, df[my_col_name].rolling(7).mean(), c=color)\n",
    "\n",
    "    ax.set_title(title)\n",
    "    \n",
    "    # formatting plot\n",
    "    ax.tick_params(axis=u'both', which=u'both',length=0)\n",
    "\n",
    "    ax.spines['right'].set_visible(False)\n",
    "    ax.spines['left'].set_visible(False)\n",
    "    ax.spines['top'].set_visible(False)\n",
    "    ax.spines['bottom'].set_visible(False)\n",
    "\n",
    "    # formatting x labels\n",
    "    plt.setp(ax.get_xticklabels(), rotation=45, ha=\"right\",\n",
    "             rotation_mode=\"anchor\")\n",
    "    \n",
    "    monthyearFmt = mdates.DateFormatter('%B')\n",
    "    ax.xaxis.set_major_formatter(monthyearFmt)"
   ]
  },
  {
   "cell_type": "code",
   "execution_count": 19,
   "metadata": {},
   "outputs": [],
   "source": [
    "# plots 6 plots in subplots for google data\n",
    "def make_title_covid(col_name):\n",
    "    words = col_name.split('_')\n",
    "    \n",
    "    words = [w.capitalize() for w in words]\n",
    "    title = ' '.join(words)\n",
    "    return title\n",
    "\n",
    "\n",
    "# this function is called in presentation notebook\n",
    "def plot_my_grouped_plot_covid(df):\n",
    "    \n",
    "    fig = plt.figure(figsize=(15,6))\n",
    "    [ax1, ax2] = fig.subplots(1,2)\n",
    "\n",
    "    plot_definition = [\n",
    "        ('cases_per_100k', ax1),\n",
    "        ('deaths_per_100k', ax2),\n",
    "    ]\n",
    "\n",
    "    for col, ax in plot_definition:\n",
    "        plot_my_fig_covid(df, col, make_title_covid(col), '#06D6A0', ax=ax)"
   ]
  },
  {
   "cell_type": "markdown",
   "metadata": {},
   "source": [
    "# Grouped covid plots\n",
    "\n",
    "Can include less plots if I group into two groups of countries, those with high rates of deaths and cases and those with low rates. I haven't grouped all countries together because the high numbers of some countries make it impossible to see the changes in the low rate countries.\n",
    "\n",
    "Have kept deaths and case numbers separate so can see trends in death rates more clearly. "
   ]
  },
  {
   "cell_type": "markdown",
   "metadata": {},
   "source": [
    "## Deaths"
   ]
  },
  {
   "cell_type": "code",
   "execution_count": 16,
   "metadata": {},
   "outputs": [],
   "source": [
    "## this is called in presentation notebook\n",
    "def covid_deaths(country_list, country_name, color_list):\n",
    "    fig = plt.figure(figsize=(15,6))\n",
    "    ax = fig.subplots()\n",
    "\n",
    "    for i, country in enumerate(country_list):\n",
    "        color = color_list[i]\n",
    "        ax.plot(country.index, country['deaths_per_100k'].rolling(7).mean(),\n",
    "                label=country_name[i], c=color)\n",
    "\n",
    "    ax.set_title('Deaths per 100k of population')\n",
    "\n",
    "    # formatting plot\n",
    "    ax.tick_params(axis=u'both', which=u'both',length=0)\n",
    "    ax.spines['right'].set_visible(False)\n",
    "    ax.spines['left'].set_visible(False)\n",
    "    ax.spines['top'].set_visible(False)\n",
    "    ax.spines['bottom'].set_visible(False)\n",
    "    ax.legend()\n",
    "\n",
    "\n",
    "    # Rotate the tick labels and set their alignment\n",
    "    plt.setp(ax.get_xticklabels(), rotation=45, ha=\"right\",\n",
    "                 rotation_mode=\"anchor\")\n",
    "\n",
    "    # formatting x axis to have months as values\n",
    "    monthyearFmt = mdates.DateFormatter('%B')\n",
    "    ax.xaxis.set_major_formatter(monthyearFmt)"
   ]
  },
  {
   "cell_type": "markdown",
   "metadata": {},
   "source": [
    "## Cases"
   ]
  },
  {
   "cell_type": "code",
   "execution_count": 15,
   "metadata": {},
   "outputs": [],
   "source": [
    "## this is called in presentation notebook\n",
    "def covid_cases(country_list, country_name, color_list):\n",
    "    fig = plt.figure(figsize=(15,6))\n",
    "    ax = fig.subplots()\n",
    "\n",
    "    for i, country in enumerate(country_list):\n",
    "        color = color_list[i]\n",
    "        ax.plot(country.index, country['cases_per_100k'].rolling(7).mean(), c=color, \n",
    "                label=country_name[i])\n",
    "\n",
    "    ax.set_title('Cases per 100k of population')\n",
    "\n",
    "    # formatting plot\n",
    "    ax.tick_params(axis=u'both', which=u'both',length=0)\n",
    "\n",
    "    ax.spines['right'].set_visible(False)\n",
    "    ax.spines['left'].set_visible(False)\n",
    "    ax.spines['top'].set_visible(False)\n",
    "    ax.spines['bottom'].set_visible(False)\n",
    "\n",
    "    ax.legend() # need to fix this\n",
    "\n",
    "\n",
    "    # Rotate the tick labels and set their alignment.\n",
    "    plt.setp(ax.get_xticklabels(), rotation=45, ha=\"right\",\n",
    "                 rotation_mode=\"anchor\")\n",
    "\n",
    "    # formatting x axis to have months as values\n",
    "    monthyearFmt = mdates.DateFormatter('%B')\n",
    "    ax.xaxis.set_major_formatter(monthyearFmt)"
   ]
  },
  {
   "cell_type": "code",
   "execution_count": null,
   "metadata": {},
   "outputs": [],
   "source": []
  }
 ],
 "metadata": {
  "kernelspec": {
   "display_name": "Python 3",
   "language": "python",
   "name": "python3"
  },
  "language_info": {
   "codemirror_mode": {
    "name": "ipython",
    "version": 3
   },
   "file_extension": ".py",
   "mimetype": "text/x-python",
   "name": "python",
   "nbconvert_exporter": "python",
   "pygments_lexer": "ipython3",
   "version": "3.6.8"
  }
 },
 "nbformat": 4,
 "nbformat_minor": 4
}
